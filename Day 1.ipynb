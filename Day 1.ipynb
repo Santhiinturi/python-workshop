{
 "cells": [
  {
   "cell_type": "code",
   "execution_count": null,
   "metadata": {},
   "outputs": [],
   "source": [
    "a = 10;b =20\n",
    "print(a+b)\n",
    "print(\"adition of a and b numbers is :\",a+b)"
   ]
  },
  {
   "cell_type": "code",
   "execution_count": null,
   "metadata": {},
   "outputs": [],
   "source": [
    "a = int(input('enter a value'))\n",
    "b = int(input('enter b value'))\n",
    "print(\"addition of {} and {} format is\" .format(a,b),a+b)\n",
    "print(\"subtraction of {} and {} format is\" .format(a,b),a-b)\n",
    "print(\"multiplication of {} and {} format is\".format(a,b),a*b)\n",
    "print(\"divison of {} and {} format is\".format(a,b),a/b)"
   ]
  },
  {
   "cell_type": "markdown",
   "metadata": {},
   "source": [
    "# Relational or Comparision\n",
    ",<,>=,<=,!=,=="
   ]
  },
  {
   "cell_type": "code",
   "execution_count": null,
   "metadata": {},
   "outputs": [],
   "source": [
    "print(\"greaterthan--\",5>4)\n",
    "print(\"lessthan--\",10<5)\n",
    "print(\"greaterthan or equalsto--\",200>=199)\n",
    "print(\"lessthan or equalsto--\",199<=100)\n",
    "print(\"not equalsto--\",200!=199)\n",
    "print(\"equals to--\",200==200)"
   ]
  },
  {
   "cell_type": "markdown",
   "metadata": {},
   "source": [
    "# Assainment\n",
    "+=,-=,*=,**=,//="
   ]
  },
  {
   "cell_type": "code",
   "execution_count": null,
   "metadata": {},
   "outputs": [],
   "source": [
    "a=10\n",
    "a+=90\n",
    "a"
   ]
  },
  {
   "cell_type": "code",
   "execution_count": null,
   "metadata": {},
   "outputs": [],
   "source": [
    "a=10\n",
    "a-=50\n",
    "a"
   ]
  },
  {
   "cell_type": "code",
   "execution_count": null,
   "metadata": {},
   "outputs": [],
   "source": [
    "a=15\n",
    "a*=2\n",
    "a"
   ]
  },
  {
   "cell_type": "markdown",
   "metadata": {},
   "source": [
    "# Logical operator\n",
    "and,or,not"
   ]
  },
  {
   "cell_type": "code",
   "execution_count": null,
   "metadata": {},
   "outputs": [],
   "source": [
    "#not\n",
    "print(not(False and False))\n",
    "print(not(False and True))\n",
    "print(not(True and False))\n",
    "print(not(True and True))"
   ]
  },
  {
   "cell_type": "code",
   "execution_count": null,
   "metadata": {},
   "outputs": [],
   "source": [
    "#not with or\n",
    "print(not(False or False))\n",
    "print(not(False or True))\n",
    "print(not(True or False))\n",
    "print(not(True or True))"
   ]
  },
  {
   "cell_type": "markdown",
   "metadata": {},
   "source": [
    "# Membership\n",
    "in,notin\""
   ]
  },
  {
   "cell_type": "code",
   "execution_count": null,
   "metadata": {},
   "outputs": [],
   "source": [
    "s=\"Welcome to python Workshop\"\n",
    "print('to'in s)\n",
    "print('too'in s)\n",
    "print('x'not in s)"
   ]
  },
  {
   "cell_type": "code",
   "execution_count": null,
   "metadata": {},
   "outputs": [],
   "source": [
    "# Identity operator\n",
    "x='hello'\n",
    "y='hell'\n",
    "print(x is y)\n",
    "print(x is not y)"
   ]
  },
  {
   "cell_type": "markdown",
   "metadata": {},
   "source": [
    "# Bitwise operator\n",
    "&,|,^"
   ]
  },
  {
   "cell_type": "code",
   "execution_count": null,
   "metadata": {},
   "outputs": [],
   "source": [
    "2&5\n",
    "5|10\n",
    "int('1111',2)\n",
    "bin(2)\n",
    "int('001')"
   ]
  },
  {
   "cell_type": "code",
   "execution_count": null,
   "metadata": {},
   "outputs": [],
   "source": [
    "# Acci values converts\n",
    "ord('A')\n",
    "chr(65)"
   ]
  },
  {
   "cell_type": "markdown",
   "metadata": {},
   "source": [
    "Take 5 inputs from users \n",
    "operations the values\n",
    "print result"
   ]
  },
  {
   "cell_type": "markdown",
   "metadata": {},
   "source": [
    "# Conditional statements\n",
    "+ if,elif,else\n",
    "### codition syntax\n",
    "if condition:\n",
    "    statements\n",
    "elif condition:\n",
    "    statement\n",
    "else\n",
    "    statements\n",
    "   \n"
   ]
  },
  {
   "cell_type": "code",
   "execution_count": null,
   "metadata": {},
   "outputs": [],
   "source": [
    "# Even numbers\n",
    "n=int(input('Enter the value:-'))\n",
    "if n%2!=0:\n",
    "    print(n,'is an odd number')\n",
    "else:\n",
    "    print(n,'not odd number')"
   ]
  },
  {
   "cell_type": "code",
   "execution_count": null,
   "metadata": {},
   "outputs": [],
   "source": [
    "# take the input from user \n",
    "#1 to 7\n",
    "n=int(input(\"Enter a value\"))\n",
    "if n==1:\n",
    "    print(n,\"Sunday\")\n",
    "elif n==2:\n",
    "      print(n,\"Monday\")\n",
    "elif n==3:\n",
    "      print(n,\"Tuesday\")\n",
    "elif n==4:\n",
    "      print(n,\"Wednesday\")\n",
    "elif n==5:\n",
    "      print(n,\"Thursday\")\n",
    "elif n==6:\n",
    "      print(n,\"Friday\")\n",
    "elif n==7:\n",
    "      print(n,\"Saturday\")\n",
    "else:\n",
    "      print(\"Invalid number\")\n",
    "    \n",
    "\n"
   ]
  },
  {
   "cell_type": "code",
   "execution_count": null,
   "metadata": {},
   "outputs": [],
   "source": [
    "# Based on time take inpot from user\n",
    "n = float(input(\"Enter the time\"))\n",
    "if (n>=0.00 and n<=12.00):\n",
    "             print(\"Good morning\")\n",
    "elif(n>=13.00 and n<=17.00):\n",
    "             print(\"Good afternoon\")\n",
    "elif(n>=18.00 and n<=21.00):\n",
    "             print(\"Good night\")\n",
    "else:\n",
    "             print(\"Invalid numbner\")\n",
    "             "
   ]
  },
  {
   "cell_type": "code",
   "execution_count": null,
   "metadata": {},
   "outputs": [],
   "source": [
    "n=input(\"Enter alpha:\")\n",
    "if(n>='a' and n<='z')or(n>='A' and n<=\"Z\"):\n",
    "    print(n,'is a Alphabet')\n",
    "elif n>='0' and n<='9':\n",
    "    print(n,'is digit')\n",
    "else:\n",
    "    print(n,'is an special symbol')"
   ]
  },
  {
   "cell_type": "code",
   "execution_count": null,
   "metadata": {},
   "outputs": [],
   "source": [
    "help()"
   ]
  },
  {
   "cell_type": "code",
   "execution_count": null,
   "metadata": {},
   "outputs": [],
   "source": [
    " import getpass\n",
    "dir(getpass)"
   ]
  },
  {
   "cell_type": "code",
   "execution_count": null,
   "metadata": {},
   "outputs": [],
   "source": [
    "from getpass import getpass\n",
    "username=input('enter username:-')\n",
    "password=getpass('enter password:-')\n",
    "if username == \"kanna\" and password== \"2617\":\n",
    "    print('Welcome',username)\n",
    "else:\n",
    "    print('invalid uname or password')"
   ]
  },
  {
   "cell_type": "markdown",
   "metadata": {},
   "source": [
    "# flow control statements\n",
    "+ forloop\n",
    "## syntax\n",
    "for variable in range(inclusive,exclusive,step):\n",
    "    print(variable)\n",
    "+whileloop\n",
    "# jumping satements\n",
    "+ break,continue,pass\n"
   ]
  },
  {
   "cell_type": "code",
   "execution_count": null,
   "metadata": {},
   "outputs": [],
   "source": [
    "# forloop\n",
    "for i in range(50):\n",
    "    print(i,end=\"--\")\n",
    "# with inclusive\n",
    "for j in range(1,50+1):\n",
    "    print(j,end=\"--\")\n",
    "# Reverse numbers\n",
    "for k in range(51,1,-1):\n",
    "    print(k,end=\"<--\")\n",
    "# evennumbers using forloop\n",
    "for l in range(0,101,2):\n",
    "    print(l,end=\",\")\n"
   ]
  },
  {
   "cell_type": "code",
   "execution_count": null,
   "metadata": {},
   "outputs": [],
   "source": [
    "n = int(input())\n",
    "s = 0\n",
    "for i in range(n+1):\n",
    "    s+=i#s = s+i\n",
    "    #print(i,end = '')\n",
    "print(s)   "
   ]
  },
  {
   "cell_type": "code",
   "execution_count": null,
   "metadata": {},
   "outputs": [],
   "source": [
    "#sum of natural numbers in b/wthe given range"
   ]
  },
  {
   "cell_type": "code",
   "execution_count": null,
   "metadata": {},
   "outputs": [],
   "source": [
    "n = int(input())\n",
    "for i in range(2,12):\n",
    "    print(i)"
   ]
  },
  {
   "cell_type": "code",
   "execution_count": null,
   "metadata": {},
   "outputs": [],
   "source": [
    "n = int(input(\"enter factorial number\"))\n",
    "s = 1\n",
    "for i in range(1,n+1):\n",
    "    s*=i#s = s+i\n",
    "    #print(i,end = '')\n",
    "print(s)"
   ]
  },
  {
   "cell_type": "code",
   "execution_count": null,
   "metadata": {},
   "outputs": [],
   "source": [
    "#table\n",
    "n = int(input(\"enter table number:\"))\n",
    "m = int(input(\"enter table upto:\"))\n",
    "for i in range (1,m+1):\n",
    "    print('{} * {} = {}'.format(n,i,n*i))"
   ]
  },
  {
   "cell_type": "code",
   "execution_count": null,
   "metadata": {},
   "outputs": [],
   "source": [
    "for i in range(4):\n",
    "    print(\"kanna\",end = '')"
   ]
  },
  {
   "cell_type": "code",
   "execution_count": 9,
   "metadata": {},
   "outputs": [
    {
     "name": "stdout",
     "output_type": "stream",
     "text": [
      "enter table number:1\n",
      "enter number upto:2\n",
      "i-- 1\n",
      "j-- 1\n",
      "1 * 1 = 1\n",
      "i-- 2\n",
      "j-- 1\n",
      "2 * 1 = 2\n",
      "j-- 2\n",
      "2 * 2 = 4\n"
     ]
    }
   ],
   "source": [
    "#table\n",
    "n = int(input(\"enter table number:\"))\n",
    "m = int(input(\"enter number upto:\"))\n",
    "for i in range(1,m+1):\n",
    "    print('i--',i)\n",
    "    for j in range (1,i+1):\n",
    "        print('j--',j)\n",
    "        print('{} * {} = {}'.format(i,j,i*j))\n",
    "    "
   ]
  },
  {
   "cell_type": "markdown",
   "metadata": {},
   "source": [
    "### While:\n",
    " While condition:\n",
    " \n",
    "       statements\n",
    "       \n",
    "       change the value"
   ]
  },
  {
   "cell_type": "code",
   "execution_count": null,
   "metadata": {},
   "outputs": [],
   "source": [
    "i = 1\n",
    "while i<10:\n",
    "    print(i)\n",
    "    i+=1"
   ]
  },
  {
   "cell_type": "code",
   "execution_count": null,
   "metadata": {},
   "outputs": [],
   "source": [
    "n = int(input())\n",
    "for i in range(10,1,-1):\n",
    "    print(i)"
   ]
  },
  {
   "cell_type": "code",
   "execution_count": 3,
   "metadata": {},
   "outputs": [
    {
     "name": "stdout",
     "output_type": "stream",
     "text": [
      "10\n",
      "9\n",
      "8\n",
      "7\n",
      "6\n",
      "5\n",
      "4\n",
      "3\n",
      "2\n",
      "1\n"
     ]
    }
   ],
   "source": [
    "i = 10\n",
    "while i>=1:\n",
    "    print(i)\n",
    "    i-=1"
   ]
  },
  {
   "cell_type": "code",
   "execution_count": 11,
   "metadata": {},
   "outputs": [
    {
     "name": "stdout",
     "output_type": "stream",
     "text": [
      "1\n",
      "1\n",
      "3\n",
      "5\n",
      "7\n",
      "9\n",
      "11\n",
      "13\n",
      "15\n",
      "17\n",
      "19\n"
     ]
    }
   ],
   "source": [
    "n = int(input())\n",
    "while n<20:\n",
    "    if n%2!=0:\n",
    "        print(n)\n",
    "    n+=1    \n",
    "    "
   ]
  },
  {
   "cell_type": "markdown",
   "metadata": {},
   "source": [
    "# Take a break program using while condition"
   ]
  },
  {
   "cell_type": "code",
   "execution_count": 14,
   "metadata": {},
   "outputs": [
    {
     "data": {
      "text/plain": [
       "'Tue Jan  5 11:29:09 2021'"
      ]
     },
     "execution_count": 14,
     "metadata": {},
     "output_type": "execute_result"
    }
   ],
   "source": [
    "'''import webbrowser\n",
    "#dir(webbrowser)\n",
    "webbrowser.open('www.google.com')\n",
    "'''\n",
    "\n",
    "import time\n",
    "#dir(time)\n",
    "time.ctime()"
   ]
  },
  {
   "cell_type": "code",
   "execution_count": 1,
   "metadata": {},
   "outputs": [
    {
     "name": "stdout",
     "output_type": "stream",
     "text": [
      "Tue Jan  5 11:41:01 2021\n",
      "Tue Jan  5 11:42:01 2021\n",
      "True\n"
     ]
    }
   ],
   "source": [
    "import webbrowser,time\n",
    "totalbreaks=2\n",
    "count=0\n",
    "\n",
    "while count<totalbreaks:\n",
    "    print(time.ctime())\n",
    "    time.sleep(60)\n",
    "    if count==1:\n",
    "        print(webbrowser.open('www.facebook.com'))\n",
    "    elif count==2:\n",
    "        print(webbrowser.open('www.youtube.com'))\n",
    "    count+=1    "
   ]
  },
  {
   "cell_type": "code",
   "execution_count": 10,
   "metadata": {},
   "outputs": [
    {
     "name": "stdout",
     "output_type": "stream",
     "text": [
      "11\n",
      "12\n",
      "13\n",
      "14\n",
      "16\n",
      "17\n",
      "18\n",
      "19\n",
      "20\n"
     ]
    }
   ],
   "source": [
    "i = 10\n",
    "while i<20:\n",
    "    i+=1\n",
    "    \n",
    "    if i==15:\n",
    "        continue\n",
    "    print(i)\n",
    "        "
   ]
  },
  {
   "cell_type": "code",
   "execution_count": 3,
   "metadata": {},
   "outputs": [
    {
     "name": "stdout",
     "output_type": "stream",
     "text": [
      "k\n"
     ]
    }
   ],
   "source": [
    "s = 'kanna'\n",
    "for i in s:\n",
    "    if i == 'a' or  i =='n':\n",
    "        continue\n",
    "    print(i)"
   ]
  },
  {
   "cell_type": "code",
   "execution_count": null,
   "metadata": {},
   "outputs": [],
   "source": []
  }
 ],
 "metadata": {
  "kernelspec": {
   "display_name": "Python 3",
   "language": "python",
   "name": "python3"
  },
  "language_info": {
   "codemirror_mode": {
    "name": "ipython",
    "version": 3
   },
   "file_extension": ".py",
   "mimetype": "text/x-python",
   "name": "python",
   "nbconvert_exporter": "python",
   "pygments_lexer": "ipython3",
   "version": "3.6.5"
  }
 },
 "nbformat": 4,
 "nbformat_minor": 4
}
